{
  "nbformat": 4,
  "nbformat_minor": 0,
  "metadata": {
    "colab": {
      "provenance": [],
      "authorship_tag": "ABX9TyPqt03bymt6ER3tacsfzie9",
      "include_colab_link": true
    },
    "kernelspec": {
      "name": "python3",
      "display_name": "Python 3"
    },
    "language_info": {
      "name": "python"
    }
  },
  "cells": [
    {
      "cell_type": "markdown",
      "metadata": {
        "id": "view-in-github",
        "colab_type": "text"
      },
      "source": [
        "<a href=\"https://colab.research.google.com/github/AliHasan-786/NextWordPredictionModel/blob/main/NextWordPredictor.ipynb\" target=\"_parent\"><img src=\"https://colab.research.google.com/assets/colab-badge.svg\" alt=\"Open In Colab\"/></a>"
      ]
    },
    {
      "cell_type": "code",
      "execution_count": null,
      "metadata": {
        "id": "hYhdtgPAQj-R"
      },
      "outputs": [],
      "source": [
        "#Import necessary libraries\n",
        "import tempfile\n",
        "import numpy as np\n",
        "import tensorflow as tf\n",
        "from tensorflow.keras.preprocessing.text import Tokenizer\n",
        "from tensorflow.keras.preprocessing.sequence import pad_sequences\n",
        "from tensorflow.keras.models import Sequential\n",
        "from tensorflow.keras.layers import Embedding, LSTM, Dense\n",
        "\n",
        "#Read the text file\n",
        "with open('sherlock-holm.es_stories_plain-text_advs.txt', 'r', encoding='utf-8') as file:\n",
        "    text = file.read()"
      ]
    },
    {
      "cell_type": "code",
      "source": [
        "#Tokenize the text to create a sequence of words\n",
        "tokenizer = Tokenizer()\n",
        "tokenizer.fit_on_texts([text])\n",
        "total_words = len(tokenizer.word_index) + 1"
      ],
      "metadata": {
        "id": "pXs-UW6fRctN"
      },
      "execution_count": null,
      "outputs": []
    },
    {
      "cell_type": "code",
      "source": [
        "#Create input-output pairs by splitting the text into sequence of tokens and forming n-grams from the sequences\n",
        "input_sequences = []\n",
        "for line in text.split('\\n'):\n",
        "  token_list = tokenizer.texts_to_sequences([line])[0]\n",
        "  for i in range(1, len(token_list)):\n",
        "    n_gram_sequence = token_list[:i+1]\n",
        "    input_sequences.append(n_gram_sequence)"
      ],
      "metadata": {
        "id": "zl7ul9VORpUJ"
      },
      "execution_count": null,
      "outputs": []
    },
    {
      "cell_type": "code",
      "source": [
        "max_sequence_len = max([len(seq) for seq in input_sequences])\n",
        "input_sequences = np.array(pad_sequences(input_sequences, maxlen=max_sequence_len, padding='pre'))"
      ],
      "metadata": {
        "id": "ehnp5r0_SYSD"
      },
      "execution_count": null,
      "outputs": []
    },
    {
      "cell_type": "code",
      "source": [
        "#Split the sequences into input and output\n",
        "x = input_sequences[:, :-1]\n",
        "y = input_sequences[:, -1]"
      ],
      "metadata": {
        "id": "nNNfloxMS_zW"
      },
      "execution_count": null,
      "outputs": []
    },
    {
      "cell_type": "code",
      "source": [
        "#Convert the output to one-hot encode vectors\n",
        "y = np.array(tf.keras.utils.to_categorical(y, num_classes=total_words))"
      ],
      "metadata": {
        "id": "H2QJr97ITPAZ"
      },
      "execution_count": null,
      "outputs": []
    },
    {
      "cell_type": "code",
      "source": [
        "#Build a neural network architecture to train the model\n",
        "model = Sequential()\n",
        "model.add(Embedding(total_words, 100, input_length = max_sequence_len-1))\n",
        "model.add(LSTM(150))\n",
        "model.add(Dense(total_words, activation = 'softmax'))\n",
        "print(model.summary())"
      ],
      "metadata": {
        "colab": {
          "base_uri": "https://localhost:8080/"
        },
        "id": "EWXZTnKSTb-i",
        "outputId": "5d938ac2-14a0-4c58-a9a1-601df1ff453f"
      },
      "execution_count": null,
      "outputs": [
        {
          "output_type": "stream",
          "name": "stdout",
          "text": [
            "Model: \"sequential\"\n",
            "_________________________________________________________________\n",
            " Layer (type)                Output Shape              Param #   \n",
            "=================================================================\n",
            " embedding (Embedding)       (None, 17, 100)           820000    \n",
            "                                                                 \n",
            " lstm (LSTM)                 (None, 150)               150600    \n",
            "                                                                 \n",
            " dense (Dense)               (None, 8200)              1238200   \n",
            "                                                                 \n",
            "=================================================================\n",
            "Total params: 2,208,800\n",
            "Trainable params: 2,208,800\n",
            "Non-trainable params: 0\n",
            "_________________________________________________________________\n",
            "None\n"
          ]
        }
      ]
    },
    {
      "cell_type": "code",
      "source": [
        "#Compile and train the model\n",
        "model.compile(loss='categorical_crossentropy', optimizer='adam', metrics=['accuracy'])\n",
        "model.fit(x, y, epochs=100, verbose=1)"
      ],
      "metadata": {
        "id": "jw1Rk2ozUpEv",
        "colab": {
          "base_uri": "https://localhost:8080/"
        },
        "outputId": "66ad9fe0-957d-4c20-964e-6865eed77e44"
      },
      "execution_count": null,
      "outputs": [
        {
          "output_type": "stream",
          "name": "stdout",
          "text": [
            "Epoch 1/100\n",
            "3010/3010 [==============================] - 210s 69ms/step - loss: 6.2370 - accuracy: 0.0772\n",
            "Epoch 2/100\n",
            "3010/3010 [==============================] - 212s 70ms/step - loss: 5.5235 - accuracy: 0.1224\n",
            "Epoch 3/100\n",
            "3010/3010 [==============================] - 208s 69ms/step - loss: 5.1393 - accuracy: 0.1462\n",
            "Epoch 4/100\n",
            "3010/3010 [==============================] - 201s 67ms/step - loss: 4.8056 - accuracy: 0.1638\n",
            "Epoch 5/100\n",
            "3010/3010 [==============================] - 192s 64ms/step - loss: 4.5039 - accuracy: 0.1814\n",
            "Epoch 6/100\n",
            "3010/3010 [==============================] - 192s 64ms/step - loss: 4.2185 - accuracy: 0.2021\n",
            "Epoch 7/100\n",
            "3010/3010 [==============================] - 192s 64ms/step - loss: 3.9499 - accuracy: 0.2251\n",
            "Epoch 8/100\n",
            "3010/3010 [==============================] - 191s 64ms/step - loss: 3.6939 - accuracy: 0.2549\n",
            "Epoch 9/100\n",
            "3010/3010 [==============================] - 190s 63ms/step - loss: 3.4527 - accuracy: 0.2884\n",
            "Epoch 10/100\n",
            "3010/3010 [==============================] - 189s 63ms/step - loss: 3.2282 - accuracy: 0.3226\n",
            "Epoch 11/100\n",
            "3010/3010 [==============================] - 188s 62ms/step - loss: 3.0185 - accuracy: 0.3565\n",
            "Epoch 12/100\n",
            "3010/3010 [==============================] - 188s 62ms/step - loss: 2.8242 - accuracy: 0.3920\n",
            "Epoch 13/100\n",
            "3010/3010 [==============================] - 178s 59ms/step - loss: 2.6454 - accuracy: 0.4249\n",
            "Epoch 14/100\n",
            "3010/3010 [==============================] - 176s 58ms/step - loss: 2.4807 - accuracy: 0.4570\n",
            "Epoch 15/100\n",
            "3010/3010 [==============================] - 177s 59ms/step - loss: 2.3277 - accuracy: 0.4871\n",
            "Epoch 16/100\n",
            "3010/3010 [==============================] - 173s 58ms/step - loss: 2.1896 - accuracy: 0.5127\n",
            "Epoch 17/100\n",
            "3010/3010 [==============================] - 173s 57ms/step - loss: 2.0587 - accuracy: 0.5416\n",
            "Epoch 18/100\n",
            "3010/3010 [==============================] - 173s 57ms/step - loss: 1.9430 - accuracy: 0.5651\n",
            "Epoch 19/100\n",
            "3010/3010 [==============================] - 172s 57ms/step - loss: 1.8352 - accuracy: 0.5874\n",
            "Epoch 20/100\n",
            "3010/3010 [==============================] - 171s 57ms/step - loss: 1.7361 - accuracy: 0.6102\n",
            "Epoch 21/100\n",
            "3010/3010 [==============================] - 171s 57ms/step - loss: 1.6432 - accuracy: 0.6305\n",
            "Epoch 22/100\n",
            "3010/3010 [==============================] - 182s 60ms/step - loss: 1.5597 - accuracy: 0.6482\n",
            "Epoch 23/100\n",
            "3010/3010 [==============================] - 181s 60ms/step - loss: 1.4841 - accuracy: 0.6648\n",
            "Epoch 24/100\n",
            "3010/3010 [==============================] - 187s 62ms/step - loss: 1.4122 - accuracy: 0.6817\n",
            "Epoch 25/100\n",
            "3010/3010 [==============================] - 185s 61ms/step - loss: 1.3484 - accuracy: 0.6956\n",
            "Epoch 26/100\n",
            "3010/3010 [==============================] - 186s 62ms/step - loss: 1.2869 - accuracy: 0.7071\n",
            "Epoch 27/100\n",
            "3010/3010 [==============================] - 184s 61ms/step - loss: 1.2335 - accuracy: 0.7182\n",
            "Epoch 28/100\n",
            "3010/3010 [==============================] - 185s 61ms/step - loss: 1.1828 - accuracy: 0.7307\n",
            "Epoch 29/100\n",
            "3010/3010 [==============================] - 183s 61ms/step - loss: 1.1386 - accuracy: 0.7396\n",
            "Epoch 30/100\n",
            "3010/3010 [==============================] - 184s 61ms/step - loss: 1.0935 - accuracy: 0.7514\n",
            "Epoch 31/100\n",
            "3010/3010 [==============================] - 183s 61ms/step - loss: 1.0561 - accuracy: 0.7591\n",
            "Epoch 32/100\n",
            "3010/3010 [==============================] - 184s 61ms/step - loss: 1.0186 - accuracy: 0.7670\n",
            "Epoch 33/100\n",
            "3010/3010 [==============================] - 183s 61ms/step - loss: 0.9857 - accuracy: 0.7743\n",
            "Epoch 34/100\n",
            "3010/3010 [==============================] - 184s 61ms/step - loss: 0.9539 - accuracy: 0.7808\n",
            "Epoch 35/100\n",
            "3010/3010 [==============================] - 183s 61ms/step - loss: 0.9219 - accuracy: 0.7879\n",
            "Epoch 36/100\n",
            "3010/3010 [==============================] - 172s 57ms/step - loss: 0.8986 - accuracy: 0.7921\n",
            "Epoch 37/100\n",
            "3010/3010 [==============================] - 170s 57ms/step - loss: 0.8726 - accuracy: 0.7984\n",
            "Epoch 38/100\n",
            "3010/3010 [==============================] - 170s 57ms/step - loss: 0.8480 - accuracy: 0.8046\n",
            "Epoch 39/100\n",
            "3010/3010 [==============================] - 174s 58ms/step - loss: 0.8301 - accuracy: 0.8080\n",
            "Epoch 40/100\n",
            "3010/3010 [==============================] - 176s 58ms/step - loss: 0.8087 - accuracy: 0.8127\n",
            "Epoch 41/100\n",
            "3010/3010 [==============================] - 172s 57ms/step - loss: 0.7899 - accuracy: 0.8161\n",
            "Epoch 42/100\n",
            "3010/3010 [==============================] - 170s 57ms/step - loss: 0.7719 - accuracy: 0.8194\n",
            "Epoch 43/100\n",
            "3010/3010 [==============================] - 171s 57ms/step - loss: 0.7601 - accuracy: 0.8215\n",
            "Epoch 44/100\n",
            "3010/3010 [==============================] - 170s 57ms/step - loss: 0.7418 - accuracy: 0.8262\n",
            "Epoch 45/100\n",
            "3010/3010 [==============================] - 171s 57ms/step - loss: 0.7282 - accuracy: 0.8273\n",
            "Epoch 46/100\n",
            "3010/3010 [==============================] - 175s 58ms/step - loss: 0.7148 - accuracy: 0.8315\n",
            "Epoch 47/100\n",
            "3010/3010 [==============================] - 173s 57ms/step - loss: 0.7050 - accuracy: 0.8346\n",
            "Epoch 48/100\n",
            "3010/3010 [==============================] - 172s 57ms/step - loss: 0.6953 - accuracy: 0.8343\n",
            "Epoch 49/100\n",
            "3010/3010 [==============================] - 177s 59ms/step - loss: 0.6819 - accuracy: 0.8375\n",
            "Epoch 50/100\n",
            "3010/3010 [==============================] - 172s 57ms/step - loss: 0.6722 - accuracy: 0.8400\n",
            "Epoch 51/100\n",
            "3010/3010 [==============================] - 170s 57ms/step - loss: 0.6648 - accuracy: 0.8397\n",
            "Epoch 52/100\n",
            "3010/3010 [==============================] - 171s 57ms/step - loss: 0.6532 - accuracy: 0.8421\n",
            "Epoch 53/100\n",
            "3010/3010 [==============================] - 177s 59ms/step - loss: 0.6490 - accuracy: 0.8432\n",
            "Epoch 54/100\n",
            "3010/3010 [==============================] - 174s 58ms/step - loss: 0.6353 - accuracy: 0.8471\n",
            "Epoch 55/100\n",
            "3010/3010 [==============================] - 176s 59ms/step - loss: 0.6286 - accuracy: 0.8479\n",
            "Epoch 56/100\n",
            "3010/3010 [==============================] - 177s 59ms/step - loss: 0.6294 - accuracy: 0.8462\n",
            "Epoch 57/100\n",
            "3010/3010 [==============================] - 178s 59ms/step - loss: 0.6230 - accuracy: 0.8481\n",
            "Epoch 58/100\n",
            "3010/3010 [==============================] - 182s 60ms/step - loss: 0.6147 - accuracy: 0.8497\n",
            "Epoch 59/100\n",
            "3010/3010 [==============================] - 186s 62ms/step - loss: 0.6117 - accuracy: 0.8502\n",
            "Epoch 60/100\n",
            "3010/3010 [==============================] - 187s 62ms/step - loss: 0.5993 - accuracy: 0.8531\n",
            "Epoch 61/100\n",
            "3010/3010 [==============================] - 184s 61ms/step - loss: 0.5995 - accuracy: 0.8517\n",
            "Epoch 62/100\n",
            "3010/3010 [==============================] - 177s 59ms/step - loss: 0.5971 - accuracy: 0.8520\n",
            "Epoch 63/100\n",
            "3010/3010 [==============================] - 178s 59ms/step - loss: 0.5925 - accuracy: 0.8531\n",
            "Epoch 64/100\n",
            "3010/3010 [==============================] - 179s 59ms/step - loss: 0.5868 - accuracy: 0.8540\n",
            "Epoch 65/100\n",
            "3010/3010 [==============================] - 176s 58ms/step - loss: 0.5840 - accuracy: 0.8545\n",
            "Epoch 66/100\n",
            "3010/3010 [==============================] - 176s 58ms/step - loss: 0.5801 - accuracy: 0.8550\n",
            "Epoch 67/100\n",
            "3010/3010 [==============================] - 174s 58ms/step - loss: 0.5725 - accuracy: 0.8576\n",
            "Epoch 68/100\n",
            "3010/3010 [==============================] - 174s 58ms/step - loss: 0.5756 - accuracy: 0.8564\n",
            "Epoch 69/100\n",
            "3010/3010 [==============================] - 174s 58ms/step - loss: 0.5707 - accuracy: 0.8569\n",
            "Epoch 70/100\n",
            "3010/3010 [==============================] - 174s 58ms/step - loss: 0.5673 - accuracy: 0.8581\n",
            "Epoch 71/100\n",
            "3010/3010 [==============================] - 184s 61ms/step - loss: 0.5613 - accuracy: 0.8592\n",
            "Epoch 72/100\n",
            "3010/3010 [==============================] - 188s 62ms/step - loss: 0.5678 - accuracy: 0.8565\n",
            "Epoch 73/100\n",
            "3010/3010 [==============================] - 188s 62ms/step - loss: 0.5550 - accuracy: 0.8604\n",
            "Epoch 74/100\n",
            "3010/3010 [==============================] - 193s 64ms/step - loss: 0.5549 - accuracy: 0.8595\n",
            "Epoch 75/100\n",
            "3010/3010 [==============================] - 214s 71ms/step - loss: 0.5533 - accuracy: 0.8593\n",
            "Epoch 76/100\n",
            "3010/3010 [==============================] - 211s 70ms/step - loss: 0.5465 - accuracy: 0.8617\n",
            "Epoch 77/100\n",
            "3010/3010 [==============================] - 199s 66ms/step - loss: 0.5548 - accuracy: 0.8583\n",
            "Epoch 78/100\n",
            "3010/3010 [==============================] - 192s 64ms/step - loss: 0.5455 - accuracy: 0.8612\n",
            "Epoch 79/100\n",
            "3010/3010 [==============================] - 191s 63ms/step - loss: 0.5498 - accuracy: 0.8589\n",
            "Epoch 80/100\n",
            "3010/3010 [==============================] - 193s 64ms/step - loss: 0.5455 - accuracy: 0.8606\n",
            "Epoch 81/100\n",
            "3010/3010 [==============================] - 191s 64ms/step - loss: 0.5427 - accuracy: 0.8604\n",
            "Epoch 82/100\n",
            "3010/3010 [==============================] - 191s 63ms/step - loss: 0.5434 - accuracy: 0.8596\n",
            "Epoch 83/100\n",
            "3010/3010 [==============================] - 191s 63ms/step - loss: 0.5451 - accuracy: 0.8591\n",
            "Epoch 84/100\n",
            "3010/3010 [==============================] - 190s 63ms/step - loss: 0.5385 - accuracy: 0.8610\n",
            "Epoch 85/100\n",
            "3010/3010 [==============================] - 189s 63ms/step - loss: 0.5372 - accuracy: 0.8613\n",
            "Epoch 86/100\n",
            "3010/3010 [==============================] - 184s 61ms/step - loss: 0.5390 - accuracy: 0.8614\n",
            "Epoch 87/100\n",
            "3010/3010 [==============================] - 176s 58ms/step - loss: 0.5347 - accuracy: 0.8619\n",
            "Epoch 88/100\n",
            "3010/3010 [==============================] - 178s 59ms/step - loss: 0.5393 - accuracy: 0.8599\n",
            "Epoch 89/100\n",
            "3010/3010 [==============================] - 180s 60ms/step - loss: 0.5358 - accuracy: 0.8609\n",
            "Epoch 90/100\n",
            "3010/3010 [==============================] - 188s 62ms/step - loss: 0.5326 - accuracy: 0.8615\n",
            "Epoch 91/100\n",
            "3010/3010 [==============================] - 188s 62ms/step - loss: 0.5294 - accuracy: 0.8625\n",
            "Epoch 92/100\n",
            "3010/3010 [==============================] - 202s 67ms/step - loss: 0.5328 - accuracy: 0.8625\n",
            "Epoch 93/100\n",
            "3010/3010 [==============================] - 189s 63ms/step - loss: 0.5333 - accuracy: 0.8607\n",
            "Epoch 94/100\n",
            "2072/3010 [===================>..........] - ETA: 56s - loss: 0.4970 - accuracy: 0.8717"
          ]
        }
      ]
    },
    {
      "cell_type": "code",
      "source": [
        "#Write your own seed text\n",
        "seed_text = \"I will leave if they\"\n",
        "next_words = 3\n",
        "\n",
        "for _ in range(next_words):\n",
        "    token_list = tokenizer.texts_to_sequences([seed_text])[0]\n",
        "    token_list = pad_sequences([token_list], maxlen=max_sequence_len-1, padding='pre')\n",
        "    predicted = np.argmax(model.predict(token_list), axis=-1)\n",
        "    output_word = \"\"\n",
        "    for word, index in tokenizer.word_index.items():\n",
        "        if index == predicted:\n",
        "            output_word = word\n",
        "            break\n",
        "    seed_text += \" \" + output_word\n"
      ],
      "metadata": {
        "colab": {
          "base_uri": "https://localhost:8080/"
        },
        "id": "A9oWSEKdW-8q",
        "outputId": "9eec7fbd-7fa5-4e38-d2d4-ceaab373bcc4"
      },
      "execution_count": null,
      "outputs": [
        {
          "output_type": "stream",
          "name": "stdout",
          "text": [
            "1/1 [==============================] - 1s 790ms/step\n",
            "1/1 [==============================] - 0s 34ms/step\n",
            "1/1 [==============================] - 0s 44ms/step\n"
          ]
        }
      ]
    }
  ]
}